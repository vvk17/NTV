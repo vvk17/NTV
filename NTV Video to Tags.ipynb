{
    "nbformat_minor": 2, 
    "cells": [
        {
            "source": "# Run this cell in case environment needs to be set up - uncomment below lines\n#!pip install --upgrade opencv-python\n#!pip install --upgrade watson-developer-cloud", 
            "cell_type": "code", 
            "metadata": {}, 
            "outputs": [], 
            "execution_count": 2
        }, 
        {
            "source": "#Cleaning the local machine\n#!ls\n!rm *.*\n!ls", 
            "cell_type": "code", 
            "metadata": {}, 
            "outputs": [
                {
                    "output_type": "stream", 
                    "name": "stdout", 
                    "text": "data\r\n"
                }
            ], 
            "execution_count": 16
        }, 
        {
            "source": "# @hidden_cell\n# The following code contains the credentials for a file in your IBM Cloud Object Storage.\n# You might want to remove those credentials before you share your notebook.\n# @hidden_cell\n# The following code contains the credentials for a file in your IBM Cloud Object Storage.\n# You might want to remove those credentials before you share your notebook.\ncredentials = {\n    'IBM_API_KEY_ID': 'lwh1BFrJ7Qx2yLyqoW2m4LqyTzGIwkNfZ4hv0Gk0fCvb',\n    'IAM_SERVICE_ID': 'iam-ServiceId-43b60095-ea22-47ab-9b38-b249834c3dd9',\n    'ENDPOINT': 'https://s3.eu-geo.objectstorage.service.networklayer.com',\n    'IBM_AUTH_ENDPOINT': 'https://iam.eu-gb.bluemix.net/oidc/token',\n    'BUCKET': 'ntvvideotags-donotdelete-pr-uhcerveada9jvi',\n    'FILE': 'terminator1984.mp4'\n}\n\nfrom ibm_botocore.client import Config\nimport ibm_boto3\n\ndef download_file_cos(credentials,local_file_name,key):  \n    cos = ibm_boto3.client(service_name='s3',\n    ibm_api_key_id=credentials['IBM_API_KEY_ID'],\n    ibm_service_instance_id=credentials['IAM_SERVICE_ID'],\n    ibm_auth_endpoint=credentials['IBM_AUTH_ENDPOINT'],\n    config=Config(signature_version='oauth'),\n    endpoint_url=credentials['ENDPOINT'])\n    try:\n        res=cos.download_file(Bucket=credentials['BUCKET'],Key=key,Filename=local_file_name)\n    except Exception as e:\n        print(Exception, e)\n    else:\n        print('File Downloaded')\n        \ndef upload_file_cos(credentials,local_file_name,key):  \n    cos = ibm_boto3.client(service_name='s3',\n    ibm_api_key_id=credentials['IBM_API_KEY_ID'],\n    ibm_service_instance_id=credentials['IAM_SERVICE_ID'],\n    ibm_auth_endpoint=credentials['IBM_AUTH_ENDPOINT'],\n    config=Config(signature_version='oauth'),\n    endpoint_url=credentials['ENDPOINT'])\n    try:\n        res=cos.upload_file(Filename=local_file_name, Bucket=credentials['BUCKET'],Key=key)\n    except Exception as e:\n        print(Exception, e)\n    else:\n        print(' File Uploaded')\n    \n\n#Select cos file to be downloaded        \nvideo_name = \"terminator1984\"  #Put your file name here\ncos_name = video_name+\".mp4\"\nlocal_name = \"ntv.mp4\"\n\n#Download file to local machine\ndownload_file_cos(credentials,local_name,cos_name)\n\nprint (\"File \"+cos_name+\" downloaded to \"+local_name)", 
            "cell_type": "code", 
            "metadata": {}, 
            "outputs": [
                {
                    "output_type": "stream", 
                    "name": "stdout", 
                    "text": "File Downloaded\nFile terminator1984.mp4 downloaded to ntv.mp4\n"
                }
            ], 
            "execution_count": 17
        }, 
        {
            "source": "import cv2\nimport numpy as np\nimport os\nimport zipfile\nimport re\nimport json\nfrom io import BytesIO\nfrom os.path import join, dirname\nfrom os import environ\nfrom watson_developer_cloud import VisualRecognitionV3\nimport pandas as pd\nfrom pandas.io.json import json_normalize\nimport seaborn as sns\nfrom matplotlib import pyplot\nfrom scipy.cluster import hierarchy\nfrom sklearn.neighbors import kneighbors_graph\nfrom sklearn.cluster import AgglomerativeClustering\n", 
            "cell_type": "code", 
            "metadata": {}, 
            "outputs": [], 
            "execution_count": 18
        }, 
        {
            "source": "!ls -all\n!pwd\ndata_dir = './data/'\ncap = cv2.VideoCapture(local_name)\nprint(cap.get(cv2.CAP_PROP_FRAME_COUNT))\n#visual_recognition = VisualRecognitionV3('2018-06-07', api_key='SaKFXYE6-XKhVcARkBCtZ6OuB_l9m3aZemHG_ihYsZOG')\nvisual_recognition = VisualRecognitionV3('2018-06-07', iam_api_key='XsGGHdWrBo8jaJkNIGA9aSr6_QXvYZNH5xi58zkLRnGa')\nprint(cap.open(local_name))\ntry:\n    if not os.path.exists('data'):\n        os.makedirs('data')\nexcept OSError:\n    print ('Error: Creating directory of data')", 
            "cell_type": "code", 
            "metadata": {}, 
            "outputs": [
                {
                    "output_type": "stream", 
                    "name": "stdout", 
                    "text": "total 7808\ndrwxr-x--- 3 dsxuser dsxuser    4096 Jul 23 12:27 .\ndrwx------ 1 dsxuser dsxuser    4096 Jul 23 11:18 ..\ndrwxr-x--- 2 dsxuser dsxuser    4096 Jul 23 11:19 data\n-rw-r----- 1 dsxuser dsxuser 7979254 Jul 23 12:27 ntv.mp4\n/home/dsxuser/work\n2841.0\nTrue\n"
                }
            ], 
            "execution_count": 19
        }, 
        {
            "source": "def getClasses(json_data):\n    return dict(list(map( lambda el: [el['class'],el['score']],json_data[\"images\"][0][\"classifiers\"][0][\"classes\"])))\n\ndef getComplexClasses(json_data):\n    for image in json_data['images']:\n        res = re.match(r'.*frame(\\d*)',image['image'], re.M|re.I)\n        print(res.group(1))\n        print(dict(list(map( lambda el: [el['class'],el['score']],image[\"classifiers\"][0][\"classes\"]))))\n\n\ndef zipdir(path, ziph):\n    # ziph is zipfile handle\n    for root, dirs, files in os.walk(path):\n        for file in files:\n            print(file)\n            ziph.write(os.path.join(root, file))", 
            "cell_type": "code", 
            "metadata": {}, 
            "outputs": [], 
            "execution_count": 20
        }, 
        {
            "source": "currentFrame = 0\nframes_dict = []\nframes_to_pass=100\nprint(\"Hey\")\nret, frame = cap.read()\nwith open('result_dict.json', 'w') as res_file:    \n    print('test')\nwhile(frame is not None):\n    if(currentFrame%frames_to_pass):\n        currentFrame += 1\n        ret, frame = cap.read()\n        continue\n    if(not currentFrame%10):\n        print(currentFrame)\n    name = data_dir + 'frame0.jpg'\n#     print ('Analyzing...' + str(currentFrame))\n    cv2.imwrite(name, frame)\n    ret, buf = cv2.imencode('.jpg',frame)\n#     print(BytesIO(frame))\n    #print(type(buf))\n    with open(data_dir + 'frame0.jpg', 'rb') as image_file:\n#         print(image_file)\n        json_data = visual_recognition.classify(images_file=image_file, threshold=0, classifier_ids=['default'])\n        currElement = {'id':currentFrame}\n        currElement.update(getClasses(json_data))\n        frames_dict.append(currElement)\n    #print(frames_dict)\n    ret, frame = cap.read()\n\n    currentFrame += 1\n    \nwith open('result_dict.json', 'w') as res_file: \n    res_file.write(json.dumps(frames_dict))\ndf = json_normalize(frames_dict)\n", 
            "cell_type": "code", 
            "metadata": {}, 
            "outputs": [
                {
                    "output_type": "stream", 
                    "name": "stdout", 
                    "text": "Hey\ntest\n0\n100\n200\n300\n400\n500\n600\n700\n800\n900\n1000\n1100\n1200\n1300\n1400\n1500\n1600\n1700\n1800\n1900\n2000\n2100\n2200\n2300\n2400\n2500\n2600\n2700\n2800\n"
                }
            ], 
            "execution_count": 21
        }, 
        {
            "source": "cap.release()\ncv2.destroyAllWindows()", 
            "cell_type": "code", 
            "metadata": {}, 
            "outputs": [], 
            "execution_count": 22
        }, 
        {
            "source": "df = df.fillna(0)\ndf.head()", 
            "cell_type": "code", 
            "metadata": {
                "scrolled": true
            }, 
            "outputs": [
                {
                    "output_type": "execute_result", 
                    "data": {
                        "text/html": "<div>\n<style scoped>\n    .dataframe tbody tr th:only-of-type {\n        vertical-align: middle;\n    }\n\n    .dataframe tbody tr th {\n        vertical-align: top;\n    }\n\n    .dataframe thead th {\n        text-align: right;\n    }\n</style>\n<table border=\"1\" class=\"dataframe\">\n  <thead>\n    <tr style=\"text-align: right;\">\n      <th></th>\n      <th>Alley</th>\n      <th>Clubbing</th>\n      <th>Fleet Street building</th>\n      <th>Guinness</th>\n      <th>Indian red color</th>\n      <th>Lightning</th>\n      <th>Night Sky</th>\n      <th>Riot</th>\n      <th>Sheetrock</th>\n      <th>Teleprompter</th>\n      <th>...</th>\n      <th>vigil light</th>\n      <th>wainscoting wood panels</th>\n      <th>wall</th>\n      <th>wall unit</th>\n      <th>weapon</th>\n      <th>web site</th>\n      <th>welder's mask</th>\n      <th>window</th>\n      <th>window frame</th>\n      <th>woman</th>\n    </tr>\n  </thead>\n  <tbody>\n    <tr>\n      <th>0</th>\n      <td>0.0</td>\n      <td>0.0</td>\n      <td>0.0</td>\n      <td>0.000</td>\n      <td>0.0</td>\n      <td>0.000</td>\n      <td>0.000</td>\n      <td>0.0</td>\n      <td>0.0</td>\n      <td>0.0</td>\n      <td>...</td>\n      <td>0.0</td>\n      <td>0.0</td>\n      <td>0.0</td>\n      <td>0.0</td>\n      <td>0.0</td>\n      <td>0.0</td>\n      <td>0.000</td>\n      <td>0.0</td>\n      <td>0.0</td>\n      <td>0.0</td>\n    </tr>\n    <tr>\n      <th>1</th>\n      <td>0.0</td>\n      <td>0.0</td>\n      <td>0.0</td>\n      <td>0.704</td>\n      <td>0.0</td>\n      <td>0.000</td>\n      <td>0.583</td>\n      <td>0.0</td>\n      <td>0.0</td>\n      <td>0.0</td>\n      <td>...</td>\n      <td>0.0</td>\n      <td>0.0</td>\n      <td>0.0</td>\n      <td>0.0</td>\n      <td>0.0</td>\n      <td>0.0</td>\n      <td>0.000</td>\n      <td>0.0</td>\n      <td>0.0</td>\n      <td>0.0</td>\n    </tr>\n    <tr>\n      <th>2</th>\n      <td>0.0</td>\n      <td>0.0</td>\n      <td>0.0</td>\n      <td>0.000</td>\n      <td>0.0</td>\n      <td>0.557</td>\n      <td>0.811</td>\n      <td>0.0</td>\n      <td>0.0</td>\n      <td>0.0</td>\n      <td>...</td>\n      <td>0.0</td>\n      <td>0.0</td>\n      <td>0.0</td>\n      <td>0.0</td>\n      <td>0.0</td>\n      <td>0.0</td>\n      <td>0.000</td>\n      <td>0.0</td>\n      <td>0.0</td>\n      <td>0.0</td>\n    </tr>\n    <tr>\n      <th>3</th>\n      <td>0.0</td>\n      <td>0.0</td>\n      <td>0.0</td>\n      <td>0.000</td>\n      <td>0.0</td>\n      <td>0.000</td>\n      <td>0.000</td>\n      <td>0.0</td>\n      <td>0.0</td>\n      <td>0.0</td>\n      <td>...</td>\n      <td>0.0</td>\n      <td>0.0</td>\n      <td>0.0</td>\n      <td>0.0</td>\n      <td>0.0</td>\n      <td>0.0</td>\n      <td>0.000</td>\n      <td>0.0</td>\n      <td>0.0</td>\n      <td>0.0</td>\n    </tr>\n    <tr>\n      <th>4</th>\n      <td>0.0</td>\n      <td>0.0</td>\n      <td>0.0</td>\n      <td>0.000</td>\n      <td>0.0</td>\n      <td>0.000</td>\n      <td>0.000</td>\n      <td>0.0</td>\n      <td>0.0</td>\n      <td>0.0</td>\n      <td>...</td>\n      <td>0.0</td>\n      <td>0.0</td>\n      <td>0.0</td>\n      <td>0.0</td>\n      <td>0.0</td>\n      <td>0.0</td>\n      <td>0.616</td>\n      <td>0.0</td>\n      <td>0.0</td>\n      <td>0.0</td>\n    </tr>\n  </tbody>\n</table>\n<p>5 rows \u00d7 127 columns</p>\n</div>", 
                        "text/plain": "   Alley  Clubbing  Fleet Street building  Guinness  Indian red color  \\\n0    0.0       0.0                    0.0     0.000               0.0   \n1    0.0       0.0                    0.0     0.704               0.0   \n2    0.0       0.0                    0.0     0.000               0.0   \n3    0.0       0.0                    0.0     0.000               0.0   \n4    0.0       0.0                    0.0     0.000               0.0   \n\n   Lightning  Night Sky  Riot  Sheetrock  Teleprompter  ...    vigil light  \\\n0      0.000      0.000   0.0        0.0           0.0  ...            0.0   \n1      0.000      0.583   0.0        0.0           0.0  ...            0.0   \n2      0.557      0.811   0.0        0.0           0.0  ...            0.0   \n3      0.000      0.000   0.0        0.0           0.0  ...            0.0   \n4      0.000      0.000   0.0        0.0           0.0  ...            0.0   \n\n   wainscoting wood panels  wall  wall unit  weapon  web site  welder's mask  \\\n0                      0.0   0.0        0.0     0.0       0.0          0.000   \n1                      0.0   0.0        0.0     0.0       0.0          0.000   \n2                      0.0   0.0        0.0     0.0       0.0          0.000   \n3                      0.0   0.0        0.0     0.0       0.0          0.000   \n4                      0.0   0.0        0.0     0.0       0.0          0.616   \n\n   window  window frame  woman  \n0     0.0           0.0    0.0  \n1     0.0           0.0    0.0  \n2     0.0           0.0    0.0  \n3     0.0           0.0    0.0  \n4     0.0           0.0    0.0  \n\n[5 rows x 127 columns]"
                    }, 
                    "execution_count": 23, 
                    "metadata": {}
                }
            ], 
            "execution_count": 23
        }, 
        {
            "source": "#frames_to_pass = 100\nlocal_csv_name = \"out_ntv_\"+str(frames_to_pass)+\".csv\"\ndf.to_csv(local_csv_name)", 
            "cell_type": "code", 
            "metadata": {}, 
            "outputs": [], 
            "execution_count": 24
        }, 
        {
            "source": "df = pd.read_csv(local_csv_name)\ndf.head()", 
            "cell_type": "code", 
            "metadata": {}, 
            "outputs": [
                {
                    "output_type": "execute_result", 
                    "data": {
                        "text/html": "<div>\n<style scoped>\n    .dataframe tbody tr th:only-of-type {\n        vertical-align: middle;\n    }\n\n    .dataframe tbody tr th {\n        vertical-align: top;\n    }\n\n    .dataframe thead th {\n        text-align: right;\n    }\n</style>\n<table border=\"1\" class=\"dataframe\">\n  <thead>\n    <tr style=\"text-align: right;\">\n      <th></th>\n      <th>Unnamed: 0</th>\n      <th>Alley</th>\n      <th>Clubbing</th>\n      <th>Fleet Street building</th>\n      <th>Guinness</th>\n      <th>Indian red color</th>\n      <th>Lightning</th>\n      <th>Night Sky</th>\n      <th>Riot</th>\n      <th>Sheetrock</th>\n      <th>...</th>\n      <th>vigil light</th>\n      <th>wainscoting wood panels</th>\n      <th>wall</th>\n      <th>wall unit</th>\n      <th>weapon</th>\n      <th>web site</th>\n      <th>welder's mask</th>\n      <th>window</th>\n      <th>window frame</th>\n      <th>woman</th>\n    </tr>\n  </thead>\n  <tbody>\n    <tr>\n      <th>0</th>\n      <td>0</td>\n      <td>0.0</td>\n      <td>0.0</td>\n      <td>0.0</td>\n      <td>0.000</td>\n      <td>0.0</td>\n      <td>0.000</td>\n      <td>0.000</td>\n      <td>0.0</td>\n      <td>0.0</td>\n      <td>...</td>\n      <td>0.0</td>\n      <td>0.0</td>\n      <td>0.0</td>\n      <td>0.0</td>\n      <td>0.0</td>\n      <td>0.0</td>\n      <td>0.000</td>\n      <td>0.0</td>\n      <td>0.0</td>\n      <td>0.0</td>\n    </tr>\n    <tr>\n      <th>1</th>\n      <td>1</td>\n      <td>0.0</td>\n      <td>0.0</td>\n      <td>0.0</td>\n      <td>0.704</td>\n      <td>0.0</td>\n      <td>0.000</td>\n      <td>0.583</td>\n      <td>0.0</td>\n      <td>0.0</td>\n      <td>...</td>\n      <td>0.0</td>\n      <td>0.0</td>\n      <td>0.0</td>\n      <td>0.0</td>\n      <td>0.0</td>\n      <td>0.0</td>\n      <td>0.000</td>\n      <td>0.0</td>\n      <td>0.0</td>\n      <td>0.0</td>\n    </tr>\n    <tr>\n      <th>2</th>\n      <td>2</td>\n      <td>0.0</td>\n      <td>0.0</td>\n      <td>0.0</td>\n      <td>0.000</td>\n      <td>0.0</td>\n      <td>0.557</td>\n      <td>0.811</td>\n      <td>0.0</td>\n      <td>0.0</td>\n      <td>...</td>\n      <td>0.0</td>\n      <td>0.0</td>\n      <td>0.0</td>\n      <td>0.0</td>\n      <td>0.0</td>\n      <td>0.0</td>\n      <td>0.000</td>\n      <td>0.0</td>\n      <td>0.0</td>\n      <td>0.0</td>\n    </tr>\n    <tr>\n      <th>3</th>\n      <td>3</td>\n      <td>0.0</td>\n      <td>0.0</td>\n      <td>0.0</td>\n      <td>0.000</td>\n      <td>0.0</td>\n      <td>0.000</td>\n      <td>0.000</td>\n      <td>0.0</td>\n      <td>0.0</td>\n      <td>...</td>\n      <td>0.0</td>\n      <td>0.0</td>\n      <td>0.0</td>\n      <td>0.0</td>\n      <td>0.0</td>\n      <td>0.0</td>\n      <td>0.000</td>\n      <td>0.0</td>\n      <td>0.0</td>\n      <td>0.0</td>\n    </tr>\n    <tr>\n      <th>4</th>\n      <td>4</td>\n      <td>0.0</td>\n      <td>0.0</td>\n      <td>0.0</td>\n      <td>0.000</td>\n      <td>0.0</td>\n      <td>0.000</td>\n      <td>0.000</td>\n      <td>0.0</td>\n      <td>0.0</td>\n      <td>...</td>\n      <td>0.0</td>\n      <td>0.0</td>\n      <td>0.0</td>\n      <td>0.0</td>\n      <td>0.0</td>\n      <td>0.0</td>\n      <td>0.616</td>\n      <td>0.0</td>\n      <td>0.0</td>\n      <td>0.0</td>\n    </tr>\n  </tbody>\n</table>\n<p>5 rows \u00d7 128 columns</p>\n</div>", 
                        "text/plain": "   Unnamed: 0  Alley  Clubbing  Fleet Street building  Guinness  \\\n0           0    0.0       0.0                    0.0     0.000   \n1           1    0.0       0.0                    0.0     0.704   \n2           2    0.0       0.0                    0.0     0.000   \n3           3    0.0       0.0                    0.0     0.000   \n4           4    0.0       0.0                    0.0     0.000   \n\n   Indian red color  Lightning  Night Sky  Riot  Sheetrock  ...    \\\n0               0.0      0.000      0.000   0.0        0.0  ...     \n1               0.0      0.000      0.583   0.0        0.0  ...     \n2               0.0      0.557      0.811   0.0        0.0  ...     \n3               0.0      0.000      0.000   0.0        0.0  ...     \n4               0.0      0.000      0.000   0.0        0.0  ...     \n\n   vigil light  wainscoting wood panels  wall  wall unit  weapon  web site  \\\n0          0.0                      0.0   0.0        0.0     0.0       0.0   \n1          0.0                      0.0   0.0        0.0     0.0       0.0   \n2          0.0                      0.0   0.0        0.0     0.0       0.0   \n3          0.0                      0.0   0.0        0.0     0.0       0.0   \n4          0.0                      0.0   0.0        0.0     0.0       0.0   \n\n   welder's mask  window  window frame  woman  \n0          0.000     0.0           0.0    0.0  \n1          0.000     0.0           0.0    0.0  \n2          0.000     0.0           0.0    0.0  \n3          0.000     0.0           0.0    0.0  \n4          0.616     0.0           0.0    0.0  \n\n[5 rows x 128 columns]"
                    }, 
                    "execution_count": 25, 
                    "metadata": {}
                }
            ], 
            "execution_count": 25
        }, 
        {
            "source": "cos_csv_name = video_name+\"_\"+str(frames_to_pass)+\".csv\"\nupload_file_cos(credentials,local_csv_name,cos_csv_name)\nprint (\"File \"+local_csv_name+\" uploaded to \"+cos_csv_name)", 
            "cell_type": "code", 
            "metadata": {}, 
            "outputs": [
                {
                    "output_type": "stream", 
                    "name": "stdout", 
                    "text": " File Uploaded\nFile out_ntv_100.csv uploaded to terminator1984_100.csv\n"
                }
            ], 
            "execution_count": 26
        }, 
        {
            "source": "no_id = df.drop(['id','Unnamed: 0'], axis=1)\n# no_id = df.drop(['id'], axis=1)\n# no_id = df.drop(['Unnamed: 0'], axis=1)", 
            "cell_type": "code", 
            "metadata": {}, 
            "outputs": [], 
            "execution_count": 15
        }, 
        {
            "source": "", 
            "cell_type": "code", 
            "metadata": {
                "collapsed": true
            }, 
            "outputs": [], 
            "execution_count": null
        }, 
        {
            "source": "", 
            "cell_type": "code", 
            "metadata": {
                "collapsed": true
            }, 
            "outputs": [], 
            "execution_count": null
        }
    ], 
    "metadata": {
        "kernelspec": {
            "display_name": "Python 3.5", 
            "name": "python3", 
            "language": "python"
        }, 
        "language_info": {
            "mimetype": "text/x-python", 
            "nbconvert_exporter": "python", 
            "version": "3.5.5", 
            "name": "python", 
            "pygments_lexer": "ipython3", 
            "file_extension": ".py", 
            "codemirror_mode": {
                "version": 3, 
                "name": "ipython"
            }
        }
    }, 
    "nbformat": 4
}