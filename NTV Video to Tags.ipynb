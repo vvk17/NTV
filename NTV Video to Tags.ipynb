{
    "nbformat_minor": 2, 
    "cells": [
        {
            "execution_count": 2, 
            "cell_type": "code", 
            "metadata": {}, 
            "outputs": [], 
            "source": "# Run this cell in case environment needs to be set up - uncomment below lines\n#!pip install --upgrade opencv-python\n#!pip install --upgrade watson-developer-cloud"
        }, 
        {
            "execution_count": 16, 
            "cell_type": "code", 
            "metadata": {}, 
            "outputs": [
                {
                    "output_type": "stream", 
                    "name": "stdout", 
                    "text": "data\r\n"
                }
            ], 
            "source": "#Cleaning the local machine\n#!ls\n!rm *.*\n!ls"
        }, 
        {
            "execution_count": 17, 
            "cell_type": "code", 
            "metadata": {}, 
            "outputs": [
                {
                    "output_type": "stream", 
                    "name": "stdout", 
                    "text": "File Downloaded\nFile terminator1984.mp4 downloaded to ntv.mp4\n"
                }
            ], 
            "source": "# The code was removed by DSX for sharing."
        }, 
        {
            "execution_count": 18, 
            "cell_type": "code", 
            "metadata": {}, 
            "outputs": [], 
            "source": "import cv2\nimport numpy as np\nimport os\nimport zipfile\nimport re\nimport json\nfrom io import BytesIO\nfrom os.path import join, dirname\nfrom os import environ\nfrom watson_developer_cloud import VisualRecognitionV3\nimport pandas as pd\nfrom pandas.io.json import json_normalize\nimport seaborn as sns\nfrom matplotlib import pyplot\nfrom scipy.cluster import hierarchy\nfrom sklearn.neighbors import kneighbors_graph\nfrom sklearn.cluster import AgglomerativeClustering\n"
        }, 
        {
            "execution_count": 19, 
            "cell_type": "code", 
            "metadata": {}, 
            "outputs": [
                {
                    "output_type": "stream", 
                    "name": "stdout", 
                    "text": "total 7808\ndrwxr-x--- 3 dsxuser dsxuser    4096 Jul 23 12:27 .\ndrwx------ 1 dsxuser dsxuser    4096 Jul 23 11:18 ..\ndrwxr-x--- 2 dsxuser dsxuser    4096 Jul 23 11:19 data\n-rw-r----- 1 dsxuser dsxuser 7979254 Jul 23 12:27 ntv.mp4\n/home/dsxuser/work\n2841.0\nTrue\n"
                }
            ], 
            "source": "!ls -all\n!pwd\ndata_dir = './data/'\ncap = cv2.VideoCapture(local_name)\nprint(cap.get(cv2.CAP_PROP_FRAME_COUNT))\n#visual_recognition = VisualRecognitionV3('2018-06-07', api_key='SaKFXYE6-XKhVcARkBCtZ6OuB_l9m3aZemHG_ihYsZOG')\nvisual_recognition = VisualRecognitionV3('2018-06-07', iam_api_key='XsGGHdWrBo8jaJkNIGA9aSr6_QXvYZNH5xi58zkLRnGa')\nprint(cap.open(local_name))\ntry:\n    if not os.path.exists('data'):\n        os.makedirs('data')\nexcept OSError:\n    print ('Error: Creating directory of data')"
        }, 
        {
            "execution_count": 20, 
            "cell_type": "code", 
            "metadata": {}, 
            "outputs": [], 
            "source": "def getClasses(json_data):\n    return dict(list(map( lambda el: [el['class'],el['score']],json_data[\"images\"][0][\"classifiers\"][0][\"classes\"])))\n\ndef getComplexClasses(json_data):\n    for image in json_data['images']:\n        res = re.match(r'.*frame(\\d*)',image['image'], re.M|re.I)\n        print(res.group(1))\n        print(dict(list(map( lambda el: [el['class'],el['score']],image[\"classifiers\"][0][\"classes\"]))))\n\n\ndef zipdir(path, ziph):\n    # ziph is zipfile handle\n    for root, dirs, files in os.walk(path):\n        for file in files:\n            print(file)\n            ziph.write(os.path.join(root, file))"
        }, 
        {
            "execution_count": 21, 
            "cell_type": "code", 
            "metadata": {}, 
            "outputs": [
                {
                    "output_type": "stream", 
                    "name": "stdout", 
                    "text": "Hey\ntest\n0\n100\n200\n300\n400\n500\n600\n700\n800\n900\n1000\n1100\n1200\n1300\n1400\n1500\n1600\n1700\n1800\n1900\n2000\n2100\n2200\n2300\n2400\n2500\n2600\n2700\n2800\n"
                }
            ], 
            "source": "currentFrame = 0\nframes_dict = []\nframes_to_pass=100\nprint(\"Hey\")\nret, frame = cap.read()\nwith open('result_dict.json', 'w') as res_file:    \n    print('test')\nwhile(frame is not None):\n    if(currentFrame%frames_to_pass):\n        currentFrame += 1\n        ret, frame = cap.read()\n        continue\n    if(not currentFrame%10):\n        print(currentFrame)\n    name = data_dir + 'frame0.jpg'\n#     print ('Analyzing...' + str(currentFrame))\n    cv2.imwrite(name, frame)\n    ret, buf = cv2.imencode('.jpg',frame)\n#     print(BytesIO(frame))\n    #print(type(buf))\n    with open(data_dir + 'frame0.jpg', 'rb') as image_file:\n#         print(image_file)\n        json_data = visual_recognition.classify(images_file=image_file, threshold=0, classifier_ids=['default'])\n        currElement = {'id':currentFrame}\n        currElement.update(getClasses(json_data))\n        frames_dict.append(currElement)\n    #print(frames_dict)\n    ret, frame = cap.read()\n\n    currentFrame += 1\n    \nwith open('result_dict.json', 'w') as res_file: \n    res_file.write(json.dumps(frames_dict))\ndf = json_normalize(frames_dict)\n"
        }, 
        {
            "execution_count": 22, 
            "cell_type": "code", 
            "metadata": {}, 
            "outputs": [], 
            "source": "cap.release()\ncv2.destroyAllWindows()"
        }, 
        {
            "execution_count": 23, 
            "cell_type": "code", 
            "metadata": {
                "scrolled": true
            }, 
            "outputs": [
                {
                    "execution_count": 23, 
                    "metadata": {}, 
                    "data": {
                        "text/html": "<div>\n<style scoped>\n    .dataframe tbody tr th:only-of-type {\n        vertical-align: middle;\n    }\n\n    .dataframe tbody tr th {\n        vertical-align: top;\n    }\n\n    .dataframe thead th {\n        text-align: right;\n    }\n</style>\n<table border=\"1\" class=\"dataframe\">\n  <thead>\n    <tr style=\"text-align: right;\">\n      <th></th>\n      <th>Alley</th>\n      <th>Clubbing</th>\n      <th>Fleet Street building</th>\n      <th>Guinness</th>\n      <th>Indian red color</th>\n      <th>Lightning</th>\n      <th>Night Sky</th>\n      <th>Riot</th>\n      <th>Sheetrock</th>\n      <th>Teleprompter</th>\n      <th>...</th>\n      <th>vigil light</th>\n      <th>wainscoting wood panels</th>\n      <th>wall</th>\n      <th>wall unit</th>\n      <th>weapon</th>\n      <th>web site</th>\n      <th>welder's mask</th>\n      <th>window</th>\n      <th>window frame</th>\n      <th>woman</th>\n    </tr>\n  </thead>\n  <tbody>\n    <tr>\n      <th>0</th>\n      <td>0.0</td>\n      <td>0.0</td>\n      <td>0.0</td>\n      <td>0.000</td>\n      <td>0.0</td>\n      <td>0.000</td>\n      <td>0.000</td>\n      <td>0.0</td>\n      <td>0.0</td>\n      <td>0.0</td>\n      <td>...</td>\n      <td>0.0</td>\n      <td>0.0</td>\n      <td>0.0</td>\n      <td>0.0</td>\n      <td>0.0</td>\n      <td>0.0</td>\n      <td>0.000</td>\n      <td>0.0</td>\n      <td>0.0</td>\n      <td>0.0</td>\n    </tr>\n    <tr>\n      <th>1</th>\n      <td>0.0</td>\n      <td>0.0</td>\n      <td>0.0</td>\n      <td>0.704</td>\n      <td>0.0</td>\n      <td>0.000</td>\n      <td>0.583</td>\n      <td>0.0</td>\n      <td>0.0</td>\n      <td>0.0</td>\n      <td>...</td>\n      <td>0.0</td>\n      <td>0.0</td>\n      <td>0.0</td>\n      <td>0.0</td>\n      <td>0.0</td>\n      <td>0.0</td>\n      <td>0.000</td>\n      <td>0.0</td>\n      <td>0.0</td>\n      <td>0.0</td>\n    </tr>\n    <tr>\n      <th>2</th>\n      <td>0.0</td>\n      <td>0.0</td>\n      <td>0.0</td>\n      <td>0.000</td>\n      <td>0.0</td>\n      <td>0.557</td>\n      <td>0.811</td>\n      <td>0.0</td>\n      <td>0.0</td>\n      <td>0.0</td>\n      <td>...</td>\n      <td>0.0</td>\n      <td>0.0</td>\n      <td>0.0</td>\n      <td>0.0</td>\n      <td>0.0</td>\n      <td>0.0</td>\n      <td>0.000</td>\n      <td>0.0</td>\n      <td>0.0</td>\n      <td>0.0</td>\n    </tr>\n    <tr>\n      <th>3</th>\n      <td>0.0</td>\n      <td>0.0</td>\n      <td>0.0</td>\n      <td>0.000</td>\n      <td>0.0</td>\n      <td>0.000</td>\n      <td>0.000</td>\n      <td>0.0</td>\n      <td>0.0</td>\n      <td>0.0</td>\n      <td>...</td>\n      <td>0.0</td>\n      <td>0.0</td>\n      <td>0.0</td>\n      <td>0.0</td>\n      <td>0.0</td>\n      <td>0.0</td>\n      <td>0.000</td>\n      <td>0.0</td>\n      <td>0.0</td>\n      <td>0.0</td>\n    </tr>\n    <tr>\n      <th>4</th>\n      <td>0.0</td>\n      <td>0.0</td>\n      <td>0.0</td>\n      <td>0.000</td>\n      <td>0.0</td>\n      <td>0.000</td>\n      <td>0.000</td>\n      <td>0.0</td>\n      <td>0.0</td>\n      <td>0.0</td>\n      <td>...</td>\n      <td>0.0</td>\n      <td>0.0</td>\n      <td>0.0</td>\n      <td>0.0</td>\n      <td>0.0</td>\n      <td>0.0</td>\n      <td>0.616</td>\n      <td>0.0</td>\n      <td>0.0</td>\n      <td>0.0</td>\n    </tr>\n  </tbody>\n</table>\n<p>5 rows \u00d7 127 columns</p>\n</div>", 
                        "text/plain": "   Alley  Clubbing  Fleet Street building  Guinness  Indian red color  \\\n0    0.0       0.0                    0.0     0.000               0.0   \n1    0.0       0.0                    0.0     0.704               0.0   \n2    0.0       0.0                    0.0     0.000               0.0   \n3    0.0       0.0                    0.0     0.000               0.0   \n4    0.0       0.0                    0.0     0.000               0.0   \n\n   Lightning  Night Sky  Riot  Sheetrock  Teleprompter  ...    vigil light  \\\n0      0.000      0.000   0.0        0.0           0.0  ...            0.0   \n1      0.000      0.583   0.0        0.0           0.0  ...            0.0   \n2      0.557      0.811   0.0        0.0           0.0  ...            0.0   \n3      0.000      0.000   0.0        0.0           0.0  ...            0.0   \n4      0.000      0.000   0.0        0.0           0.0  ...            0.0   \n\n   wainscoting wood panels  wall  wall unit  weapon  web site  welder's mask  \\\n0                      0.0   0.0        0.0     0.0       0.0          0.000   \n1                      0.0   0.0        0.0     0.0       0.0          0.000   \n2                      0.0   0.0        0.0     0.0       0.0          0.000   \n3                      0.0   0.0        0.0     0.0       0.0          0.000   \n4                      0.0   0.0        0.0     0.0       0.0          0.616   \n\n   window  window frame  woman  \n0     0.0           0.0    0.0  \n1     0.0           0.0    0.0  \n2     0.0           0.0    0.0  \n3     0.0           0.0    0.0  \n4     0.0           0.0    0.0  \n\n[5 rows x 127 columns]"
                    }, 
                    "output_type": "execute_result"
                }
            ], 
            "source": "df = df.fillna(0)\ndf.head()"
        }, 
        {
            "execution_count": 24, 
            "cell_type": "code", 
            "metadata": {}, 
            "outputs": [], 
            "source": "#frames_to_pass = 100\nlocal_csv_name = \"out_ntv_\"+str(frames_to_pass)+\".csv\"\ndf.to_csv(local_csv_name)"
        }, 
        {
            "execution_count": 25, 
            "cell_type": "code", 
            "metadata": {}, 
            "outputs": [
                {
                    "execution_count": 25, 
                    "metadata": {}, 
                    "data": {
                        "text/html": "<div>\n<style scoped>\n    .dataframe tbody tr th:only-of-type {\n        vertical-align: middle;\n    }\n\n    .dataframe tbody tr th {\n        vertical-align: top;\n    }\n\n    .dataframe thead th {\n        text-align: right;\n    }\n</style>\n<table border=\"1\" class=\"dataframe\">\n  <thead>\n    <tr style=\"text-align: right;\">\n      <th></th>\n      <th>Unnamed: 0</th>\n      <th>Alley</th>\n      <th>Clubbing</th>\n      <th>Fleet Street building</th>\n      <th>Guinness</th>\n      <th>Indian red color</th>\n      <th>Lightning</th>\n      <th>Night Sky</th>\n      <th>Riot</th>\n      <th>Sheetrock</th>\n      <th>...</th>\n      <th>vigil light</th>\n      <th>wainscoting wood panels</th>\n      <th>wall</th>\n      <th>wall unit</th>\n      <th>weapon</th>\n      <th>web site</th>\n      <th>welder's mask</th>\n      <th>window</th>\n      <th>window frame</th>\n      <th>woman</th>\n    </tr>\n  </thead>\n  <tbody>\n    <tr>\n      <th>0</th>\n      <td>0</td>\n      <td>0.0</td>\n      <td>0.0</td>\n      <td>0.0</td>\n      <td>0.000</td>\n      <td>0.0</td>\n      <td>0.000</td>\n      <td>0.000</td>\n      <td>0.0</td>\n      <td>0.0</td>\n      <td>...</td>\n      <td>0.0</td>\n      <td>0.0</td>\n      <td>0.0</td>\n      <td>0.0</td>\n      <td>0.0</td>\n      <td>0.0</td>\n      <td>0.000</td>\n      <td>0.0</td>\n      <td>0.0</td>\n      <td>0.0</td>\n    </tr>\n    <tr>\n      <th>1</th>\n      <td>1</td>\n      <td>0.0</td>\n      <td>0.0</td>\n      <td>0.0</td>\n      <td>0.704</td>\n      <td>0.0</td>\n      <td>0.000</td>\n      <td>0.583</td>\n      <td>0.0</td>\n      <td>0.0</td>\n      <td>...</td>\n      <td>0.0</td>\n      <td>0.0</td>\n      <td>0.0</td>\n      <td>0.0</td>\n      <td>0.0</td>\n      <td>0.0</td>\n      <td>0.000</td>\n      <td>0.0</td>\n      <td>0.0</td>\n      <td>0.0</td>\n    </tr>\n    <tr>\n      <th>2</th>\n      <td>2</td>\n      <td>0.0</td>\n      <td>0.0</td>\n      <td>0.0</td>\n      <td>0.000</td>\n      <td>0.0</td>\n      <td>0.557</td>\n      <td>0.811</td>\n      <td>0.0</td>\n      <td>0.0</td>\n      <td>...</td>\n      <td>0.0</td>\n      <td>0.0</td>\n      <td>0.0</td>\n      <td>0.0</td>\n      <td>0.0</td>\n      <td>0.0</td>\n      <td>0.000</td>\n      <td>0.0</td>\n      <td>0.0</td>\n      <td>0.0</td>\n    </tr>\n    <tr>\n      <th>3</th>\n      <td>3</td>\n      <td>0.0</td>\n      <td>0.0</td>\n      <td>0.0</td>\n      <td>0.000</td>\n      <td>0.0</td>\n      <td>0.000</td>\n      <td>0.000</td>\n      <td>0.0</td>\n      <td>0.0</td>\n      <td>...</td>\n      <td>0.0</td>\n      <td>0.0</td>\n      <td>0.0</td>\n      <td>0.0</td>\n      <td>0.0</td>\n      <td>0.0</td>\n      <td>0.000</td>\n      <td>0.0</td>\n      <td>0.0</td>\n      <td>0.0</td>\n    </tr>\n    <tr>\n      <th>4</th>\n      <td>4</td>\n      <td>0.0</td>\n      <td>0.0</td>\n      <td>0.0</td>\n      <td>0.000</td>\n      <td>0.0</td>\n      <td>0.000</td>\n      <td>0.000</td>\n      <td>0.0</td>\n      <td>0.0</td>\n      <td>...</td>\n      <td>0.0</td>\n      <td>0.0</td>\n      <td>0.0</td>\n      <td>0.0</td>\n      <td>0.0</td>\n      <td>0.0</td>\n      <td>0.616</td>\n      <td>0.0</td>\n      <td>0.0</td>\n      <td>0.0</td>\n    </tr>\n  </tbody>\n</table>\n<p>5 rows \u00d7 128 columns</p>\n</div>", 
                        "text/plain": "   Unnamed: 0  Alley  Clubbing  Fleet Street building  Guinness  \\\n0           0    0.0       0.0                    0.0     0.000   \n1           1    0.0       0.0                    0.0     0.704   \n2           2    0.0       0.0                    0.0     0.000   \n3           3    0.0       0.0                    0.0     0.000   \n4           4    0.0       0.0                    0.0     0.000   \n\n   Indian red color  Lightning  Night Sky  Riot  Sheetrock  ...    \\\n0               0.0      0.000      0.000   0.0        0.0  ...     \n1               0.0      0.000      0.583   0.0        0.0  ...     \n2               0.0      0.557      0.811   0.0        0.0  ...     \n3               0.0      0.000      0.000   0.0        0.0  ...     \n4               0.0      0.000      0.000   0.0        0.0  ...     \n\n   vigil light  wainscoting wood panels  wall  wall unit  weapon  web site  \\\n0          0.0                      0.0   0.0        0.0     0.0       0.0   \n1          0.0                      0.0   0.0        0.0     0.0       0.0   \n2          0.0                      0.0   0.0        0.0     0.0       0.0   \n3          0.0                      0.0   0.0        0.0     0.0       0.0   \n4          0.0                      0.0   0.0        0.0     0.0       0.0   \n\n   welder's mask  window  window frame  woman  \n0          0.000     0.0           0.0    0.0  \n1          0.000     0.0           0.0    0.0  \n2          0.000     0.0           0.0    0.0  \n3          0.000     0.0           0.0    0.0  \n4          0.616     0.0           0.0    0.0  \n\n[5 rows x 128 columns]"
                    }, 
                    "output_type": "execute_result"
                }
            ], 
            "source": "df = pd.read_csv(local_csv_name)\ndf.head()"
        }, 
        {
            "execution_count": 26, 
            "cell_type": "code", 
            "metadata": {}, 
            "outputs": [
                {
                    "output_type": "stream", 
                    "name": "stdout", 
                    "text": " File Uploaded\nFile out_ntv_100.csv uploaded to terminator1984_100.csv\n"
                }
            ], 
            "source": "cos_csv_name = video_name+\"_\"+str(frames_to_pass)+\".csv\"\nupload_file_cos(credentials,local_csv_name,cos_csv_name)\nprint (\"File \"+local_csv_name+\" uploaded to \"+cos_csv_name)"
        }, 
        {
            "execution_count": 15, 
            "cell_type": "code", 
            "metadata": {}, 
            "outputs": [], 
            "source": "no_id = df.drop(['id','Unnamed: 0'], axis=1)\n# no_id = df.drop(['id'], axis=1)\n# no_id = df.drop(['Unnamed: 0'], axis=1)"
        }, 
        {
            "execution_count": null, 
            "cell_type": "code", 
            "metadata": {
                "collapsed": true
            }, 
            "outputs": [], 
            "source": ""
        }, 
        {
            "execution_count": null, 
            "cell_type": "code", 
            "metadata": {
                "collapsed": true
            }, 
            "outputs": [], 
            "source": ""
        }
    ], 
    "metadata": {
        "kernelspec": {
            "display_name": "Python 3.5", 
            "name": "python3", 
            "language": "python"
        }, 
        "language_info": {
            "mimetype": "text/x-python", 
            "nbconvert_exporter": "python", 
            "version": "3.5.5", 
            "name": "python", 
            "file_extension": ".py", 
            "pygments_lexer": "ipython3", 
            "codemirror_mode": {
                "version": 3, 
                "name": "ipython"
            }
        }
    }, 
    "nbformat": 4
}